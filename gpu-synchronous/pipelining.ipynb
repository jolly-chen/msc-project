{
 "cells": [
  {
   "cell_type": "code",
   "execution_count": 1,
   "id": "388e4d24-bc05-4d06-ad89-3dfbad2ce8a3",
   "metadata": {},
   "outputs": [
    {
     "data": {
      "image/png": "[encoded data removed]",
      "text/plain": [
       "<Figure size 1000x50 with 1 Axes>"
      ]
     },
     "metadata": {},
     "output_type": "display_data"
    }
   ],
   "source": [
    "import json\n",
    "\n",
    "import matplotlib as mpl\n",
    "import matplotlib.cm as cm\n",
    "import matplotlib.patches as ptchs\n",
    "import matplotlib.pyplot as plt\n",
    "import matplotlib.text as mtext\n",
    "import matplotlib.ticker as ticker\n",
    "import numpy as np\n",
    "import pandas as pd\n",
    "import scipy.integrate\n",
    "import scipy.optimize\n",
    "from matplotlib import gridspec\n",
    "from matplotlib.ticker import FormatStrFormatter\n",
    "from pandas.core.base import PandasObject\n",
    "from sklearn.linear_model import Ridge\n",
    "\n",
    "system = \"das6\"\n",
    "vd_input_folder = f\"{system}-cpu/\"\n",
    "mb_input_folder = f\"../microbenchmarks/{system}/\"\n",
    "output_folder = f\"../../images/defense\"\n",
    "\n",
    "%run ../notebook_setup.ipynb"
   ]
  },
  {
   "cell_type": "markdown",
   "id": "bd0b50d3-41fc-4355-9b59-22338f5e5863",
   "metadata": {},
   "source": [
    "# Model"
   ]
  },
  {
   "cell_type": "code",
   "execution_count": null,
   "id": "06874c80-a3a3-4992-890a-47a0c250e958",
   "metadata": {},
   "outputs": [],
   "source": [
    "%%capture\n",
    "# %run ../cpu-sequential/validation.ipynb\n",
    "%run ../gpu-synchronous/validation.ipynb"
   ]
  },
  {
   "cell_type": "code",
   "execution_count": 3,
   "id": "ff4fc862-a410-4cff-a0fa-4974605cb125",
   "metadata": {},
   "outputs": [
    {
     "data": {
      "text/plain": [
       "(49152, 4194304, 3145728)"
      ]
     },
     "execution_count": 3,
     "metadata": {},
     "output_type": "execute_result"
    }
   ],
   "source": [
    "# maxsmem = 49152 #\n",
    "# l2_size = 4194304 # 48 KB\n",
    "# l2_persistent_size = 3145728 # 48 KB\n",
    "gpu_maxsmem, gpu_l2_size, gpu_l2_persistent_size"
   ]
  },
  {
   "cell_type": "code",
   "execution_count": 4,
   "id": "6e2e163f-d03f-4a57-9ec6-eb78b5c663f6",
   "metadata": {},
   "outputs": [
    {
     "ename": "NameError",
     "evalue": "name 'T_gpu_l1' is not defined",
     "output_type": "error",
     "traceback": [
      "\u001b[0;31m---------------------------------------------------------------------------\u001b[0m",
      "\u001b[0;31mNameError\u001b[0m                                 Traceback (most recent call last)",
      "Cell \u001b[0;32mIn[4], line 8\u001b[0m\n\u001b[1;32m      1\u001b[0m \u001b[38;5;66;03m# norm = unit_to_unit_factor(\"us\", \"ns\")\u001b[39;00m\n\u001b[1;32m      2\u001b[0m \u001b[38;5;66;03m# T_globmem = 700 * norm\u001b[39;00m\n\u001b[1;32m      3\u001b[0m \u001b[38;5;66;03m# T_l2 = 100 * norm\u001b[39;00m\n\u001b[0;32m   (...)\u001b[0m\n\u001b[1;32m      6\u001b[0m \u001b[38;5;66;03m# tau_1 = 16e3\u001b[39;00m\n\u001b[1;32m      7\u001b[0m \u001b[38;5;66;03m# tau_2 =  l2_size/8\u001b[39;00m\n\u001b[0;32m----> 8\u001b[0m \u001b[43mT_gpu_l1\u001b[49m, T_gpu_l2, T_gpu_globmem, \u001b[38;5;124m\"\u001b[39m\u001b[38;5;124m      \u001b[39m\u001b[38;5;124m\"\u001b[39m, tau_1, tau_2, \u001b[38;5;124m\"\u001b[39m\u001b[38;5;124m      \u001b[39m\u001b[38;5;124m\"\u001b[39m, p_fb\n",
      "\u001b[0;31mNameError\u001b[0m: name 'T_gpu_l1' is not defined"
     ]
    }
   ],
   "source": [
    "# norm = unit_to_unit_factor(\"us\", \"ns\")\n",
    "# T_globmem = 700 * norm\n",
    "# T_l2 = 100 * norm\n",
    "# T_l1 = 0.1 * norm\n",
    "# p_fb = 262144\n",
    "# tau_1 = 16e3\n",
    "# tau_2 =  l2_size/8\n",
    "T_gpu_l1, T_gpu_l2, T_gpu_globmem, \"      \", tau_1, tau_2, \"      \", p_fb"
   ]
  },
  {
   "cell_type": "code",
   "execution_count": null,
   "id": "c005208b-8c21-45da-a553-cdb307ff9d3d",
   "metadata": {},
   "outputs": [],
   "source": [
    "def T_gpu_binsearch(bulksize, subsize):\n",
    "    try:\n",
    "        T = np.repeat(T_gpu_globmem, len(subsize)).astype(np.float64)\n",
    "        T[subsize < tau_2] = T_gpu_l2 * (bulksize * p_fb)\n",
    "        T[subsize < tau_1] = T_gpu_l1 * (bulksize * p_fb)\n",
    "        return T * (bulksize * p_fb)\n",
    "    except:\n",
    "        if subsize < tau_1:\n",
    "            return T_gpu_l1 * (bulksize * p_fb)\n",
    "        elif subsize < tau_2:\n",
    "            return T_gpu_l2 * (bulksize * p_fb)\n",
    "        else:\n",
    "            return T_gpu_globmem * (bulksize * p_fb)"
   ]
  },
  {
   "cell_type": "code",
   "execution_count": null,
   "id": "d25204bc-df5d-4e43-b8ce-3a9d7e2b694e",
   "metadata": {},
   "outputs": [],
   "source": [
    "# T_globatomic_popt = [1.66528941e+00, 1.94094708e+03]\n",
    "# T_lclatomic_popt = [8.71109531e-01, 1.52247128e+04]"
   ]
  },
  {
   "cell_type": "code",
   "execution_count": null,
   "id": "127cde36-ae4a-4db0-ac61-5fa17ab8a48f",
   "metadata": {},
   "outputs": [],
   "source": [
    "def T_atomic(nthreads, a, b):\n",
    "    return a * nthreads + b\n",
    "\n",
    "\n",
    "def T_gpu_addbincontent(global_kernel, bulksize, subsize):\n",
    "    global_kernel = np.array(global_kernel)\n",
    "    lcl_kernel = np.invert(global_kernel)\n",
    "\n",
    "    try:\n",
    "        T = np.zeros(len(global_kernel))\n",
    "        T[global_kernel] = T_atomic(\n",
    "            bulksize / subsize[global_kernel], *T_globatomic_popt\n",
    "        )\n",
    "        T[lcl_kernel] = T_atomic(bulksize / subsize[lcl_kernel], *T_lclatomic_popt)\n",
    "    except:\n",
    "        if global_kernel:\n",
    "            T = T_atomic(bulksize / subsize, *T_globatomic_popt)\n",
    "\n",
    "        else:\n",
    "            T = T_atomic(bulksize / subsize, *T_lclatomic_popt)\n",
    "\n",
    "    return T"
   ]
  },
  {
   "cell_type": "code",
   "execution_count": null,
   "id": "43da8ba9-d562-4668-8ab7-cb0fcd999681",
   "metadata": {},
   "outputs": [],
   "source": [
    "# Tusb_popt = [2.27171755e-02, 2.82317569e+03]\n",
    "Tusb_popt"
   ]
  },
  {
   "cell_type": "code",
   "execution_count": null,
   "id": "a200010d-cfa5-4697-b8e3-0df325ac0449",
   "metadata": {},
   "outputs": [],
   "source": [
    "def T_gpu_usb(bulksize, a, b):\n",
    "    return a * bulksize + b"
   ]
  },
  {
   "cell_type": "code",
   "execution_count": null,
   "id": "84f7b4be-0953-440b-8cfb-9fb03a10a854",
   "metadata": {},
   "outputs": [],
   "source": [
    "# ibw_smallpinned_popt = [8.46108875e-02, 9.81633439e-01, 8.36754834e+03]\n",
    "# ibw_smallpaged_popt  = [5.21776783e-01, 8.74527915e-01, 9.52116071e+03]\n",
    "ibw_smallpinned_popt, ibw_smallpaged_popt"
   ]
  },
  {
   "cell_type": "code",
   "execution_count": null,
   "id": "d126d661-43df-4ee0-a07c-80fae30f76c0",
   "metadata": {},
   "outputs": [],
   "source": [
    "# def ibw_small(bytes, a, b, c, d, e, f):\n",
    "#     return (a*pow(bytes, 0)\n",
    "#             + b *pow(bytes, 1)\n",
    "#             + c *pow(bytes, 2)\n",
    "#             + d *pow(bytes, 3)\n",
    "#             + e *pow(bytes, 4)\n",
    "#             + f *pow(bytes, 5)\n",
    "#             + g *pow(bytes, 6)\n",
    "#             + h *pow(bytes, 7)\n",
    "#             + i *pow(bytes, 8)\n",
    "# ).clip(0)\n",
    "\n",
    "# def ibw_small(bytes, a,b,c):\n",
    "#     return a*pow(bytes, b) + c"
   ]
  },
  {
   "cell_type": "code",
   "execution_count": null,
   "id": "07ecc633-9e8b-454a-995f-5a3e27a6d02e",
   "metadata": {},
   "outputs": [],
   "source": [
    "# tau_4 = 33554432\n",
    "gpu_bw_threshold"
   ]
  },
  {
   "cell_type": "code",
   "execution_count": null,
   "id": "cb98ff56-bb6a-4444-89dc-f6f7f91e71d5",
   "metadata": {},
   "outputs": [],
   "source": [
    "# maxibw_htod_pinned = 0.06183371910866478\n",
    "# maxibw_htod_paged  = 0.06364053827440774\n",
    "gpu_maxibw_htod_pinned, gpu_maxibw_htod_paged"
   ]
  },
  {
   "cell_type": "code",
   "execution_count": null,
   "id": "c692feb7-ed73-4c57-91d6-dfa2b666f78a",
   "metadata": {},
   "outputs": [],
   "source": [
    "def T_memcpy(bytes, pinned):\n",
    "    maxibw = gpu_maxibw_htod_pinned if pinned else gpu_maxibw_htod_paged\n",
    "    popt = ibw_smallpinned_popt if pinned else ibw_smallpaged_popt\n",
    "\n",
    "    try:\n",
    "        T = np.zeros(len(bytes)).astype(np.float64)\n",
    "        T[bytes < gpu_bw_threshold] = ibw_small(bytes[bytes < gpu_bw_threshold], *popt)\n",
    "        T[bytes >= gpu_bw_threshold] = maxibw * bytes[bytes >= gpu_bw_threshold]\n",
    "    except:\n",
    "        if bytes < gpu_bw_threshold:\n",
    "            T = ibw_small(bytes, *popt)\n",
    "        else:\n",
    "            T = maxibw * bytes\n",
    "    return np.clip(T, 0, np.inf)"
   ]
  },
  {
   "cell_type": "markdown",
   "id": "ccba1858-9433-4039-bfc3-22f1f91a90eb",
   "metadata": {},
   "source": [
    "# Comparison"
   ]
  },
  {
   "cell_type": "code",
   "execution_count": null,
   "id": "458ef32c-c847-4e86-9581-73325c2f5b0e",
   "metadata": {},
   "outputs": [],
   "source": [
    "save = True; figname = f\"{output_folder}/overlap_prediction.pdf\" # fmt: skip\n",
    "print(figname)\n",
    "norm = unit_to_unit_factor(\"ns\", \"s\")\n",
    "selected_blocksize = 256\n",
    "\n",
    "fig = plt.figure(figsize=(8, 3))\n",
    "ax = plt.subplot(111)\n",
    "\n",
    "bulksize = np.linspace(0, 256 * unit_to_unit_factor(\"mb\", \"b\", bytes=True) / 8)\n",
    "nbins = np.linspace(10, 2 * gpu_l2_size / 8)\n",
    "\n",
    "### Global\n",
    "\n",
    "cmap = mpl.colors.LinearSegmentedColormap.from_list(\n",
    "    \"\", [\"#E2E9F0\", colors[0]], N=len(nbins)\n",
    ")\n",
    "cmapcolors = plt.cycler(\"color\", cmap(np.linspace(0, 1, len(nbins)))).by_key()[\"color\"]\n",
    "for nbi, nb in enumerate(nbins):\n",
    "    blocks = (bulksize + (selected_blocksize * 2 - 1)) / (selected_blocksize * 2)\n",
    "    T_usb = 4 * (\n",
    "        T_gpu_usb(bulksize, *Tusb_popt)  # main reduction\n",
    "        + T_gpu_usb(blocks, *Tusb_popt)\n",
    "    )  # final reduction\n",
    "    T_abc = T_gpu_addbincontent(True, bulksize, nb)\n",
    "    T_fb = T_gpu_binsearch(nb, bulksize)\n",
    "    pred = (T_usb + T_abc + T_fb) * norm \n",
    "    plt.plot(bulksize, pred, color=cmapcolors[nbi])\n",
    "\n",
    "normali = mpl.colors.Normalize(vmin=0, vmax=1)\n",
    "sm = plt.cm.ScalarMappable(cmap=cmap, norm=normali)\n",
    "sm.set_array([])\n",
    "start_of_clb_cell = np.cumsum(np.repeat(1 / len(nbins), len(nbins)))\n",
    "middle_of_clb_cell = start_of_clb_cell - (1 / (2 * len(nbins)))\n",
    "div = min(len(nbins), 10)\n",
    "idx = np.linspace(0, len(start_of_clb_cell) - 1, div, dtype=int)\n",
    "clb = plt.colorbar(\n",
    "    sm,\n",
    "    ticks=middle_of_clb_cell[idx],\n",
    "    format=ticker.FuncFormatter(\n",
    "        lambda x, pos, nbins=nbins, idx=idx: f\"{human_readable(nbins[idx[pos]])}\"\n",
    "    ),\n",
    "    ax=ax,\n",
    "    aspect=11,\n",
    ")\n",
    "clb.ax.set_xlabel(\n",
    "    (f'Version\\nGlobal'),\n",
    "    # fontsize=,\n",
    ")\n",
    "clb.ax.set_ylabel(\n",
    "    (f'{\" \"*0}Number of bins'),\n",
    "    fontsize=12,\n",
    ")\n",
    "### LoCAL\n",
    "\n",
    "cmap = mpl.colors.LinearSegmentedColormap.from_list(\n",
    "    \"\", [\"#FDEBDB\", colors[1]], N=len(nbins)\n",
    ")\n",
    "cmapcolors = plt.cycler(\"color\", cmap(np.linspace(0, 1, len(nbins)))).by_key()[\"color\"]\n",
    "nbins = np.linspace(10, 4096)\n",
    "for nbi, nb in enumerate(nbins):\n",
    "    blocks = (bulksize + (selected_blocksize * 2 - 1)) / (selected_blocksize * 2)\n",
    "    T_usb = 4 * (\n",
    "        T_gpu_usb(bulksize, *Tusb_popt)  # main reduction\n",
    "        + T_gpu_usb(blocks, *Tusb_popt)\n",
    "    )  # final reduction\n",
    "    T_abc = T_gpu_addbincontent(False, bulksize, nb)\n",
    "    T_fb = T_gpu_binsearch(nb, bulksize)\n",
    "    pred = (T_usb + T_abc + T_fb) * norm\n",
    "    plt.plot(bulksize, pred, color=cmapcolors[nbi],)\n",
    "\n",
    "normali = mpl.colors.Normalize(vmin=0, vmax=1)\n",
    "sm = plt.cm.ScalarMappable(cmap=cmap, norm=normali)\n",
    "sm.set_array([])\n",
    "start_of_clb_cell = np.cumsum(np.repeat(1 / len(nbins), len(nbins)))\n",
    "middle_of_clb_cell = start_of_clb_cell - (1 / (2 * len(nbins)))\n",
    "div = min(len(nbins), 10)\n",
    "idx = np.linspace(0, len(start_of_clb_cell) - 1, div, dtype=int)\n",
    "clb = plt.colorbar(\n",
    "    sm,\n",
    "    ticks=middle_of_clb_cell[idx],\n",
    "    format=ticker.FuncFormatter(\n",
    "        lambda x, pos, nbins=nbins, idx=idx: f\"{human_readable(nbins[idx[pos]])}\"\n",
    "    ),\n",
    "    ax=ax,\n",
    "    aspect=11,\n",
    ")\n",
    "clb.ax.set_xlabel(\n",
    "    (f'Version\\nLocal'),    # fontsize=,\n",
    ")\n",
    "\n",
    "## Memcpy\n",
    "pinned = True\n",
    "# plt.plot(bulksize, 2 * T_memcpy(bulksize * 8, pinned) * norm, label=\"Memcpy HToD\")\n",
    "\n",
    "norm = unit_to_unit_factor(mcpybm_mean[\"time_unit\"].values[0], unit) / mcpybm_mean[\"repetitions\"].values[0]\n",
    "arg = (mcpybm_mean[\"pinned\"] == pinned)\n",
    "# plt.plot(mcpybm_mean.loc[arg][\"nbytes\"], mcpybm_mean.loc[arg][\"nbytes\"]/mcpybm_mean.loc[arg][\"real_time\"] * norm, \"o-\")\n",
    "plt.errorbar(\n",
    "    mcpybm_mean.loc[arg][\"nbytes\"]/8,\n",
    "    mcpybm_mean.loc[arg][\"real_time\"] * norm,\n",
    "    yerr=mcpybm_std.loc[arg][\"real_time\"] * norm,\n",
    "     label=\"Memcpy HToD\",\n",
    "    # color=colors[di], marker=\"s\" if pi else \"^\", markerfacecolor=\"none\",\n",
    "    # color=colors[pinned],\n",
    "    # **bm_style,\n",
    "    color=uvablack, ls=\":\"\n",
    ")\n",
    "\n",
    "plt.ylabel(\"Runtime (s)\")\n",
    "# plt.xscale(\"log\")\n",
    "\n",
    "ax.xaxis.set_major_formatter(\n",
    "    ticker.FuncFormatter(\n",
    "        lambda x, _: f\"{human_readable(int(x))}\\n{human_readable(int(x)*8, bytes=True)}\"\n",
    "    )\n",
    ")\n",
    "# plt.xscale(\"log\")\n",
    "plt.xlabel(\"Bulk size\\nBytes\")\n",
    "plt.legend()\n",
    "if save:\n",
    "    plt.savefig(figname, format=\"pdf\", bbox_inches=\"tight\")"
   ]
  },
  {
   "cell_type": "code",
   "execution_count": null,
   "id": "6c3cd104-356c-4da7-ae6f-57c42348a658",
   "metadata": {},
   "outputs": [],
   "source": [
    "human_readable(l2_size, bytes=True)"
   ]
  }
 ],
 "metadata": {
  "kernelspec": {
   "display_name": "Python 3 (ipykernel)",
   "language": "python",
   "name": "python3"
  },
  "language_info": {
   "codemirror_mode": {
    "name": "ipython",
    "version": 3
   },
   "file_extension": ".py",
   "mimetype": "text/x-python",
   "name": "python",
   "nbconvert_exporter": "python",
   "pygments_lexer": "ipython3",
   "version": "3.10.12"
  }
 },
 "nbformat": 4,
 "nbformat_minor": 5
}
